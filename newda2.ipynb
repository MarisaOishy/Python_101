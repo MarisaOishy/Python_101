{
 "cells": [
  {
   "cell_type": "code",
   "execution_count": null,
   "id": "23626ebf",
   "metadata": {
    "vscode": {
     "languageId": "plaintext"
    }
   },
   "outputs": [],
   "source": [
    "print(\"hellooooooooooooooo\")"
   ]
  },
  {
   "cell_type": "code",
   "execution_count": null,
   "id": "f1ee32d9",
   "metadata": {
    "vscode": {
     "languageId": "plaintext"
    }
   },
   "outputs": [],
   "source": [
    "print(\"hi\")"
   ]
  }
 ],
 "metadata": {
  "language_info": {
   "name": "python"
  }
 },
 "nbformat": 4,
 "nbformat_minor": 5
}
